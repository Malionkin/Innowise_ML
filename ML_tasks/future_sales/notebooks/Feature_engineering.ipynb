{
 "cells": [
  {
   "cell_type": "markdown",
   "metadata": {
    "id": "X6N2-AgfwVaz"
   },
   "source": [
    "# Settings"
   ]
  },
  {
   "cell_type": "code",
   "execution_count": 1,
   "metadata": {
    "colab": {
     "base_uri": "https://localhost:8080/"
    },
    "id": "l8oiS-EvftHd",
    "outputId": "a6f93bca-9945-42e3-de6e-f4cd59fd4070"
   },
   "outputs": [
    {
     "name": "stdout",
     "output_type": "stream",
     "text": [
      "Requirement already satisfied: category_encoders in d:\\study\\anaconda\\lib\\site-packages (2.5.1.post0)\n",
      "Requirement already satisfied: scipy>=1.0.0 in d:\\study\\anaconda\\lib\\site-packages (from category_encoders) (1.5.2)\n",
      "Requirement already satisfied: scikit-learn>=0.20.0 in d:\\study\\anaconda\\lib\\site-packages (from category_encoders) (0.23.2)\n",
      "Requirement already satisfied: statsmodels>=0.9.0 in d:\\study\\anaconda\\lib\\site-packages (from category_encoders) (0.13.5)\n",
      "Requirement already satisfied: pandas>=1.0.5 in d:\\study\\anaconda\\lib\\site-packages (from category_encoders) (1.1.3)\n",
      "Requirement already satisfied: patsy>=0.5.1 in d:\\study\\anaconda\\lib\\site-packages (from category_encoders) (0.5.3)\n",
      "Requirement already satisfied: numpy>=1.14.0 in d:\\study\\anaconda\\lib\\site-packages (from category_encoders) (1.23.5)\n",
      "Requirement already satisfied: threadpoolctl>=2.0.0 in d:\\study\\anaconda\\lib\\site-packages (from scikit-learn>=0.20.0->category_encoders) (2.1.0)\n",
      "Requirement already satisfied: joblib>=0.11 in d:\\study\\anaconda\\lib\\site-packages (from scikit-learn>=0.20.0->category_encoders) (0.17.0)\n",
      "Requirement already satisfied: packaging>=21.3 in d:\\study\\anaconda\\lib\\site-packages (from statsmodels>=0.9.0->category_encoders) (21.3)\n",
      "Requirement already satisfied: pytz>=2017.2 in d:\\study\\anaconda\\lib\\site-packages (from pandas>=1.0.5->category_encoders) (2020.1)\n",
      "Requirement already satisfied: python-dateutil>=2.7.3 in d:\\study\\anaconda\\lib\\site-packages (from pandas>=1.0.5->category_encoders) (2.8.1)\n",
      "Requirement already satisfied: six in c:\\users\\xiaomi\\appdata\\roaming\\python\\python38\\site-packages (from patsy>=0.5.1->category_encoders) (1.15.0)\n",
      "Requirement already satisfied: pyparsing!=3.0.5,>=2.0.2 in d:\\study\\anaconda\\lib\\site-packages (from packaging>=21.3->statsmodels>=0.9.0->category_encoders) (2.4.7)\n"
     ]
    }
   ],
   "source": [
    "!pip install category_encoders"
   ]
  },
  {
   "cell_type": "markdown",
   "metadata": {
    "id": "ZhNklHxTbNM9"
   },
   "source": [
    "# Load data"
   ]
  },
  {
   "cell_type": "code",
   "execution_count": 55,
   "metadata": {
    "id": "NOlaOrGwZ-tK"
   },
   "outputs": [],
   "source": [
    "import pandas as pd\n",
    "import numpy as np\n",
    "import math\n",
    "from sklearn.pipeline import Pipeline\n",
    "from sklearn.linear_model import LinearRegression\n",
    "from sklearn.preprocessing import LabelEncoder\n"
   ]
  },
  {
   "cell_type": "code",
   "execution_count": 56,
   "metadata": {},
   "outputs": [
    {
     "name": "stdout",
     "output_type": "stream",
     "text": [
      "Collecting pyarrow\n",
      "  Downloading pyarrow-10.0.1-cp38-cp38-win_amd64.whl (20.3 MB)\n",
      "Requirement already satisfied: numpy>=1.16.6 in d:\\study\\anaconda\\lib\\site-packages (from pyarrow) (1.23.5)\n",
      "Installing collected packages: pyarrow\n",
      "Successfully installed pyarrow-10.0.1\n"
     ]
    }
   ],
   "source": [
    "!pip install pyarrow"
   ]
  },
  {
   "cell_type": "code",
   "execution_count": 25,
   "metadata": {
    "id": "w4bqiQDNZUam"
   },
   "outputs": [],
   "source": [
    "PREDICT_MONTH = 34"
   ]
  },
  {
   "cell_type": "code",
   "execution_count": 37,
   "metadata": {},
   "outputs": [],
   "source": [
    "data = pd.read_csv('./competitive-data-science-predict-future-sales/transformed_data/work_df_after_eda.csv')"
   ]
  },
  {
   "cell_type": "code",
   "execution_count": 38,
   "metadata": {},
   "outputs": [
    {
     "data": {
      "text/html": [
       "<div>\n",
       "<style scoped>\n",
       "    .dataframe tbody tr th:only-of-type {\n",
       "        vertical-align: middle;\n",
       "    }\n",
       "\n",
       "    .dataframe tbody tr th {\n",
       "        vertical-align: top;\n",
       "    }\n",
       "\n",
       "    .dataframe thead th {\n",
       "        text-align: right;\n",
       "    }\n",
       "</style>\n",
       "<table border=\"1\" class=\"dataframe\">\n",
       "  <thead>\n",
       "    <tr style=\"text-align: right;\">\n",
       "      <th></th>\n",
       "      <th>item_id</th>\n",
       "      <th>shop_id</th>\n",
       "      <th>date_block_num</th>\n",
       "      <th>item_cnt_month</th>\n",
       "      <th>item_price</th>\n",
       "      <th>shop_name</th>\n",
       "      <th>city</th>\n",
       "      <th>item_name</th>\n",
       "      <th>item_category_id</th>\n",
       "      <th>item_category_name</th>\n",
       "      <th>cat</th>\n",
       "      <th>sub_cat</th>\n",
       "      <th>ln_price</th>\n",
       "      <th>month</th>\n",
       "    </tr>\n",
       "  </thead>\n",
       "  <tbody>\n",
       "    <tr>\n",
       "      <th>0</th>\n",
       "      <td>0</td>\n",
       "      <td>0</td>\n",
       "      <td>0</td>\n",
       "      <td>0</td>\n",
       "      <td>58.0</td>\n",
       "      <td>Якутск Орджоникидзе, 56 фран</td>\n",
       "      <td>Якутск</td>\n",
       "      <td>! ВО ВЛАСТИ НАВАЖДЕНИЯ (ПЛАСТ.)         D</td>\n",
       "      <td>40</td>\n",
       "      <td>Кино - DVD</td>\n",
       "      <td>Кино</td>\n",
       "      <td>DVD</td>\n",
       "      <td>4.110874</td>\n",
       "      <td>1</td>\n",
       "    </tr>\n",
       "    <tr>\n",
       "      <th>1</th>\n",
       "      <td>0</td>\n",
       "      <td>0</td>\n",
       "      <td>1</td>\n",
       "      <td>0</td>\n",
       "      <td>58.0</td>\n",
       "      <td>Якутск Орджоникидзе, 56 фран</td>\n",
       "      <td>Якутск</td>\n",
       "      <td>! ВО ВЛАСТИ НАВАЖДЕНИЯ (ПЛАСТ.)         D</td>\n",
       "      <td>40</td>\n",
       "      <td>Кино - DVD</td>\n",
       "      <td>Кино</td>\n",
       "      <td>DVD</td>\n",
       "      <td>4.110874</td>\n",
       "      <td>2</td>\n",
       "    </tr>\n",
       "    <tr>\n",
       "      <th>2</th>\n",
       "      <td>0</td>\n",
       "      <td>0</td>\n",
       "      <td>2</td>\n",
       "      <td>0</td>\n",
       "      <td>58.0</td>\n",
       "      <td>Якутск Орджоникидзе, 56 фран</td>\n",
       "      <td>Якутск</td>\n",
       "      <td>! ВО ВЛАСТИ НАВАЖДЕНИЯ (ПЛАСТ.)         D</td>\n",
       "      <td>40</td>\n",
       "      <td>Кино - DVD</td>\n",
       "      <td>Кино</td>\n",
       "      <td>DVD</td>\n",
       "      <td>4.110874</td>\n",
       "      <td>3</td>\n",
       "    </tr>\n",
       "    <tr>\n",
       "      <th>3</th>\n",
       "      <td>0</td>\n",
       "      <td>0</td>\n",
       "      <td>3</td>\n",
       "      <td>0</td>\n",
       "      <td>58.0</td>\n",
       "      <td>Якутск Орджоникидзе, 56 фран</td>\n",
       "      <td>Якутск</td>\n",
       "      <td>! ВО ВЛАСТИ НАВАЖДЕНИЯ (ПЛАСТ.)         D</td>\n",
       "      <td>40</td>\n",
       "      <td>Кино - DVD</td>\n",
       "      <td>Кино</td>\n",
       "      <td>DVD</td>\n",
       "      <td>4.110874</td>\n",
       "      <td>4</td>\n",
       "    </tr>\n",
       "    <tr>\n",
       "      <th>4</th>\n",
       "      <td>0</td>\n",
       "      <td>0</td>\n",
       "      <td>4</td>\n",
       "      <td>0</td>\n",
       "      <td>58.0</td>\n",
       "      <td>Якутск Орджоникидзе, 56 фран</td>\n",
       "      <td>Якутск</td>\n",
       "      <td>! ВО ВЛАСТИ НАВАЖДЕНИЯ (ПЛАСТ.)         D</td>\n",
       "      <td>40</td>\n",
       "      <td>Кино - DVD</td>\n",
       "      <td>Кино</td>\n",
       "      <td>DVD</td>\n",
       "      <td>4.110874</td>\n",
       "      <td>5</td>\n",
       "    </tr>\n",
       "    <tr>\n",
       "      <th>...</th>\n",
       "      <td>...</td>\n",
       "      <td>...</td>\n",
       "      <td>...</td>\n",
       "      <td>...</td>\n",
       "      <td>...</td>\n",
       "      <td>...</td>\n",
       "      <td>...</td>\n",
       "      <td>...</td>\n",
       "      <td>...</td>\n",
       "      <td>...</td>\n",
       "      <td>...</td>\n",
       "      <td>...</td>\n",
       "      <td>...</td>\n",
       "      <td>...</td>\n",
       "    </tr>\n",
       "    <tr>\n",
       "      <th>45226795</th>\n",
       "      <td>22099</td>\n",
       "      <td>59</td>\n",
       "      <td>29</td>\n",
       "      <td>0</td>\n",
       "      <td>23.0</td>\n",
       "      <td>Ярославль ТЦ \"Альтаир\"</td>\n",
       "      <td>Ярославль</td>\n",
       "      <td>Элемент питания СТАРТ ZT 15A (LR6) - Блистер 2 шт</td>\n",
       "      <td>83</td>\n",
       "      <td>Элементы питания</td>\n",
       "      <td>Элементы питания</td>\n",
       "      <td>Элементы питания</td>\n",
       "      <td>3.258097</td>\n",
       "      <td>6</td>\n",
       "    </tr>\n",
       "    <tr>\n",
       "      <th>45226796</th>\n",
       "      <td>22099</td>\n",
       "      <td>59</td>\n",
       "      <td>30</td>\n",
       "      <td>0</td>\n",
       "      <td>23.0</td>\n",
       "      <td>Ярославль ТЦ \"Альтаир\"</td>\n",
       "      <td>Ярославль</td>\n",
       "      <td>Элемент питания СТАРТ ZT 15A (LR6) - Блистер 2 шт</td>\n",
       "      <td>83</td>\n",
       "      <td>Элементы питания</td>\n",
       "      <td>Элементы питания</td>\n",
       "      <td>Элементы питания</td>\n",
       "      <td>3.258097</td>\n",
       "      <td>7</td>\n",
       "    </tr>\n",
       "    <tr>\n",
       "      <th>45226797</th>\n",
       "      <td>22099</td>\n",
       "      <td>59</td>\n",
       "      <td>31</td>\n",
       "      <td>0</td>\n",
       "      <td>23.0</td>\n",
       "      <td>Ярославль ТЦ \"Альтаир\"</td>\n",
       "      <td>Ярославль</td>\n",
       "      <td>Элемент питания СТАРТ ZT 15A (LR6) - Блистер 2 шт</td>\n",
       "      <td>83</td>\n",
       "      <td>Элементы питания</td>\n",
       "      <td>Элементы питания</td>\n",
       "      <td>Элементы питания</td>\n",
       "      <td>3.258097</td>\n",
       "      <td>8</td>\n",
       "    </tr>\n",
       "    <tr>\n",
       "      <th>45226798</th>\n",
       "      <td>22099</td>\n",
       "      <td>59</td>\n",
       "      <td>32</td>\n",
       "      <td>0</td>\n",
       "      <td>23.0</td>\n",
       "      <td>Ярославль ТЦ \"Альтаир\"</td>\n",
       "      <td>Ярославль</td>\n",
       "      <td>Элемент питания СТАРТ ZT 15A (LR6) - Блистер 2 шт</td>\n",
       "      <td>83</td>\n",
       "      <td>Элементы питания</td>\n",
       "      <td>Элементы питания</td>\n",
       "      <td>Элементы питания</td>\n",
       "      <td>3.258097</td>\n",
       "      <td>9</td>\n",
       "    </tr>\n",
       "    <tr>\n",
       "      <th>45226799</th>\n",
       "      <td>22099</td>\n",
       "      <td>59</td>\n",
       "      <td>33</td>\n",
       "      <td>0</td>\n",
       "      <td>23.0</td>\n",
       "      <td>Ярославль ТЦ \"Альтаир\"</td>\n",
       "      <td>Ярославль</td>\n",
       "      <td>Элемент питания СТАРТ ZT 15A (LR6) - Блистер 2 шт</td>\n",
       "      <td>83</td>\n",
       "      <td>Элементы питания</td>\n",
       "      <td>Элементы питания</td>\n",
       "      <td>Элементы питания</td>\n",
       "      <td>3.258097</td>\n",
       "      <td>10</td>\n",
       "    </tr>\n",
       "  </tbody>\n",
       "</table>\n",
       "<p>45226800 rows × 14 columns</p>\n",
       "</div>"
      ],
      "text/plain": [
       "          item_id  shop_id  date_block_num  item_cnt_month  item_price  \\\n",
       "0               0        0               0               0        58.0   \n",
       "1               0        0               1               0        58.0   \n",
       "2               0        0               2               0        58.0   \n",
       "3               0        0               3               0        58.0   \n",
       "4               0        0               4               0        58.0   \n",
       "...           ...      ...             ...             ...         ...   \n",
       "45226795    22099       59              29               0        23.0   \n",
       "45226796    22099       59              30               0        23.0   \n",
       "45226797    22099       59              31               0        23.0   \n",
       "45226798    22099       59              32               0        23.0   \n",
       "45226799    22099       59              33               0        23.0   \n",
       "\n",
       "                             shop_name       city  \\\n",
       "0         Якутск Орджоникидзе, 56 фран     Якутск   \n",
       "1         Якутск Орджоникидзе, 56 фран     Якутск   \n",
       "2         Якутск Орджоникидзе, 56 фран     Якутск   \n",
       "3         Якутск Орджоникидзе, 56 фран     Якутск   \n",
       "4         Якутск Орджоникидзе, 56 фран     Якутск   \n",
       "...                                ...        ...   \n",
       "45226795        Ярославль ТЦ \"Альтаир\"  Ярославль   \n",
       "45226796        Ярославль ТЦ \"Альтаир\"  Ярославль   \n",
       "45226797        Ярославль ТЦ \"Альтаир\"  Ярославль   \n",
       "45226798        Ярославль ТЦ \"Альтаир\"  Ярославль   \n",
       "45226799        Ярославль ТЦ \"Альтаир\"  Ярославль   \n",
       "\n",
       "                                                  item_name  item_category_id  \\\n",
       "0                 ! ВО ВЛАСТИ НАВАЖДЕНИЯ (ПЛАСТ.)         D                40   \n",
       "1                 ! ВО ВЛАСТИ НАВАЖДЕНИЯ (ПЛАСТ.)         D                40   \n",
       "2                 ! ВО ВЛАСТИ НАВАЖДЕНИЯ (ПЛАСТ.)         D                40   \n",
       "3                 ! ВО ВЛАСТИ НАВАЖДЕНИЯ (ПЛАСТ.)         D                40   \n",
       "4                 ! ВО ВЛАСТИ НАВАЖДЕНИЯ (ПЛАСТ.)         D                40   \n",
       "...                                                     ...               ...   \n",
       "45226795  Элемент питания СТАРТ ZT 15A (LR6) - Блистер 2 шт                83   \n",
       "45226796  Элемент питания СТАРТ ZT 15A (LR6) - Блистер 2 шт                83   \n",
       "45226797  Элемент питания СТАРТ ZT 15A (LR6) - Блистер 2 шт                83   \n",
       "45226798  Элемент питания СТАРТ ZT 15A (LR6) - Блистер 2 шт                83   \n",
       "45226799  Элемент питания СТАРТ ZT 15A (LR6) - Блистер 2 шт                83   \n",
       "\n",
       "         item_category_name               cat           sub_cat  ln_price  \\\n",
       "0                Кино - DVD              Кино               DVD  4.110874   \n",
       "1                Кино - DVD              Кино               DVD  4.110874   \n",
       "2                Кино - DVD              Кино               DVD  4.110874   \n",
       "3                Кино - DVD              Кино               DVD  4.110874   \n",
       "4                Кино - DVD              Кино               DVD  4.110874   \n",
       "...                     ...               ...               ...       ...   \n",
       "45226795   Элементы питания  Элементы питания  Элементы питания  3.258097   \n",
       "45226796   Элементы питания  Элементы питания  Элементы питания  3.258097   \n",
       "45226797   Элементы питания  Элементы питания  Элементы питания  3.258097   \n",
       "45226798   Элементы питания  Элементы питания  Элементы питания  3.258097   \n",
       "45226799   Элементы питания  Элементы питания  Элементы питания  3.258097   \n",
       "\n",
       "          month  \n",
       "0             1  \n",
       "1             2  \n",
       "2             3  \n",
       "3             4  \n",
       "4             5  \n",
       "...         ...  \n",
       "45226795      6  \n",
       "45226796      7  \n",
       "45226797      8  \n",
       "45226798      9  \n",
       "45226799     10  \n",
       "\n",
       "[45226800 rows x 14 columns]"
      ]
     },
     "execution_count": 38,
     "metadata": {},
     "output_type": "execute_result"
    }
   ],
   "source": [
    "data "
   ]
  },
  {
   "cell_type": "markdown",
   "metadata": {
    "id": "NC0L6GYjchrz"
   },
   "source": [
    "# Rolling features"
   ]
  },
  {
   "cell_type": "code",
   "execution_count": 39,
   "metadata": {
    "id": "BTHlZsVufwT-"
   },
   "outputs": [],
   "source": [
    "from category_encoders import TargetEncoder"
   ]
  },
  {
   "cell_type": "code",
   "execution_count": 40,
   "metadata": {
    "id": "BRHVVx8XTc_G"
   },
   "outputs": [],
   "source": [
    "class RollingFeatureCreator():\n",
    "    def __init__(self, params):\n",
    "        self.params = params\n",
    "\n",
    "    def fit(self, X, y=None):\n",
    "        return self\n",
    "\n",
    "    def transform(self, X, y=None):\n",
    "        for agg_name, window, func in self.params:\n",
    "            col_name = agg_name\n",
    "            if agg_name.endswith('_id'):\n",
    "                col_name = agg_name[:-3]\n",
    "            func_name = func\n",
    "            if func == 'mean':\n",
    "                func_name = 'avg'\n",
    "            col_name = f'rol_{func_name}_{col_name}{window}'\n",
    "            sample = X.groupby([agg_name, 'date_block_num'])[['item_cnt_month']].sum().reset_index([0,1])\n",
    "            sample[col_name] = sample.groupby(agg_name)['item_cnt_month'].shift(1)\n",
    "            sample[col_name] = sample.groupby(agg_name)[col_name].rolling(window).agg({col_name: func}).reset_index(0, drop=True)\n",
    "            sample[col_name] = sample[col_name].fillna(0)\n",
    "            X = merge(X, \n",
    "                      sample[[agg_name, 'date_block_num', col_name]], \n",
    "                      on=[agg_name, 'date_block_num'], \n",
    "                      how = 'left',\n",
    "                      check_left=True)\n",
    "            sample = 0\n",
    "            if func in ['mean', 'median', 'std']:\n",
    "                X[col_name] = X[col_name].astype(np.float32)\n",
    "            else:\n",
    "                X[col_name] = X[col_name].astype(np.int32)\n",
    "        return X"
   ]
  },
  {
   "cell_type": "code",
   "execution_count": 41,
   "metadata": {
    "id": "PNdXMvJrYPvE"
   },
   "outputs": [],
   "source": [
    "class LagFeatureCreator():\n",
    "    def __init__(self, params):\n",
    "        self.params = params\n",
    "\n",
    "    def fit(self, X, y=None):\n",
    "        return self\n",
    "\n",
    "    def transform(self, X, y=None):\n",
    "        for window, target, fillna, new_type in self.params:\n",
    "            col_name = f'lag_item_shop{window}'\n",
    "            X[col_name] = X.groupby(['item_id', 'shop_id'])[target].shift(window).fillna(fillna)\n",
    "            X[col_name] = X[col_name].astype(new_type)\n",
    "        return X"
   ]
  },
  {
   "cell_type": "code",
   "execution_count": 42,
   "metadata": {
    "id": "Bu4dKWhhDc3d"
   },
   "outputs": [],
   "source": [
    "class DifFeatureCreator():\n",
    "    def __init__(self, params):\n",
    "        self.params = params\n",
    "\n",
    "    def fit(self, X, y=None):\n",
    "        return self\n",
    "\n",
    "    def transform(self, X, y=None):\n",
    "        for name, x, y in self.params:\n",
    "            X[name] = X[x] - X[y]\n",
    "        return X"
   ]
  },
  {
   "cell_type": "code",
   "execution_count": 43,
   "metadata": {
    "id": "XAjTw4TRzWOJ"
   },
   "outputs": [],
   "source": [
    "class CatTargetEncoder():\n",
    "    def __init__(self, months, params):\n",
    "        self.months = months[1:]\n",
    "        self.params = params\n",
    "\n",
    "    def fit(self, X, y=None):\n",
    "        return self\n",
    "\n",
    "    def transform(self, data, y=None):\n",
    "        for col, encoded_name, target in self.params:\n",
    "            for month in self.months:\n",
    "                print(month)\n",
    "                encoder = TargetEncoder()\n",
    "                encoder.fit(data[data.date_block_num < month][col].astype(str), data[data.date_block_num < month][target])\n",
    "                res = encoder.transform(data[data.date_block_num == month][col].astype(str))\n",
    "                data.loc[data.date_block_num == month, encoded_name] = res.iloc[:,0]\n",
    "        return data"
   ]
  },
  {
   "cell_type": "code",
   "execution_count": 44,
   "metadata": {
    "id": "VNo57vffGeSm"
   },
   "outputs": [],
   "source": [
    "class CatLabelEncoder():\n",
    "    def __init__(self, col_names):\n",
    "        self.col_names = col_names\n",
    "\n",
    "    def fit(self, X, y=None):\n",
    "        return self\n",
    "\n",
    "    def transform(self, X, y=None):\n",
    "        for col in self.col_names:\n",
    "            encoder = LabelEncoder()\n",
    "            X[col] = encoder.fit_transform(X[col])\n",
    "            X[col] = X[col].astype(np.int8)\n",
    "        return X\n",
    "\n"
   ]
  },
  {
   "cell_type": "code",
   "execution_count": 45,
   "metadata": {
    "id": "L47l93F6B1cj"
   },
   "outputs": [],
   "source": [
    "rol_lst1 = [ \n",
    "    ('city', 2, 'mean'),\n",
    "    ('city', 6, 'mean'),\n",
    "    ('sub_cat', 2, 'sum'),\n",
    "    ('sub_cat', 4, 'mean'),\n",
    "    ('sub_cat', 4, 'std'),\n",
    "    ('sub_cat', 6, 'mean'),\n",
    "    ('item_id', 4, 'median'),\n",
    "    ('cat', 6, 'mean'),\n",
    "    ('cat', 2, 'sum'),\n",
    "    ('cat', 4, 'mean'),\n",
    "    ('cat', 4, 'std'),\n",
    "    ('shop_id', 2, 'mean'),\n",
    "    ('shop_id', 4, 'mean'),\n",
    "    ('shop_id', 6, 'median')\n",
    "    ]\n",
    "rol_lst2 = [\n",
    "    ('item_id', 12, 'mean'),\n",
    "    ('shop_id', 12, 'mean'),\n",
    "    ('cat', 12, 'mean'),\n",
    "    ('sub_cat', 12, 'mean')\n",
    "]\n",
    "rol_lst3 = [\n",
    "    ('item_id', 2, 'mean'),\n",
    "    ('item_id', 4, 'max'),\n",
    "    ('item_id', 6, 'mean'),\n",
    "    ('item_id', 6, 'std'),\n",
    "]\n",
    "rol_lst4 = [\n",
    "    ('sub_cat', 5, 'min'),\n",
    "    ('cat', 5, 'min'),\n",
    "    ('city', 6, 'std'),\n",
    "    ('shop_id', 5, 'min'),\n",
    "    ('sub_cat', 5, 'median'),\n",
    "    ('cat', 5, 'median'),\n",
    "    ('cat', 1, 'sum'),\n",
    "    ('sub_cat', 1, 'sum'),\n",
    "    ('shop_id', 6, 'std'),\n",
    "    ('item_id', 1, 'sum'),\n",
    "    ('shop_id', 1, 'sum'),\n",
    "    ('item_id', 8, 'mean'),\n",
    "    ('shop_id', 8, 'mean'),\n",
    "    ('cat', 8, 'mean'),\n",
    "    ('sub_cat', 8, 'mean')\n",
    "]\n",
    "lag_lst = [\n",
    "    (1, 'item_cnt_month', 0, np.int16),\n",
    "    (2, 'item_cnt_month', 0, np.int16),\n",
    "    (3, 'item_cnt_month', 0, np.int16), \n",
    "    (4, 'item_cnt_month', 0, np.int16), \n",
    "    (12, 'item_cnt_month', 0, np.int16)]\n",
    "dif_lst = [\n",
    "    ('dif2_1', 'lag_item_shop2', 'lag_item_shop1'),\n",
    "    ('dif4_1', 'lag_item_shop4', 'lag_item_shop1'),\n",
    "    ('dif12_1', 'lag_item_shop12', 'lag_item_shop1'),\n",
    "    ('difitem6_2', 'rol_avg_item6', 'rol_avg_item2'),\n",
    "]\n",
    "cat_label_lst = ['cat', 'sub_cat', 'city']\n",
    "cat_target_lst = [\n",
    "   \n",
    "]\n",
    "cat_target_lst1 = [\n",
    "    ('city', 'city_target', 'item_cnt_month'),\n",
    "    ('cat', 'cat_target', 'item_cnt_month'),\n",
    "    ('sub_cat', 'sub_cat_target', 'item_cnt_month'),\n",
    "    ('shop_id', 'shop_target', 'item_cnt_month'),\n",
    "    ('item_id', 'item_target', 'item_cnt_month'),\n",
    "]\n",
    "cat_target_lst2 = [\n",
    "    (['city', 'cat'], 'city_cat_target', 'item_cnt_month'),\n",
    "    (['city', 'sub_cat'], 'city_subcat_target', 'item_cnt_month'),\n",
    "    (['item_id','shop_id'], 'item_shop_target', 'item_cnt_month'),\n",
    "]"
   ]
  },
  {
   "cell_type": "code",
   "execution_count": 46,
   "metadata": {
    "id": "XrrmSyJgDqQt"
   },
   "outputs": [],
   "source": [
    "feature_creating_pipeline = Pipeline(steps=[\n",
    "                                            ('lag',LagFeatureCreator(params=lag_lst)),\n",
    "                                            ('rol', RollingFeatureCreator(params=rol_lst3)),\n",
    "                                            ('dif',DifFeatureCreator(params=dif_lst))])\n",
    "feature_creating_pipeline.fit(data)\n",
    "data = feature_creating_pipeline.transform(data)"
   ]
  },
  {
   "cell_type": "markdown",
   "metadata": {
    "id": "o7WOU0Gv2IT7"
   },
   "source": [
    "# Other fet"
   ]
  },
  {
   "cell_type": "code",
   "execution_count": 47,
   "metadata": {
    "id": "2Lw-j3De2L25"
   },
   "outputs": [],
   "source": [
    "data['month'] = data['date_block_num'] % 12 + 1"
   ]
  },
  {
   "cell_type": "code",
   "execution_count": 48,
   "metadata": {
    "id": "bEmdk9hN2ZhZ"
   },
   "outputs": [],
   "source": [
    "temp = data.groupby(['date_block_num'])[['item_cnt_month']].sum().shift(1).fillna(0).reset_index([0])\n",
    "temp.columns = ['date_block_num', 'lag_month1']\n",
    "data = merge(data, temp, on='date_block_num', how='left', check_left=True)"
   ]
  },
  {
   "cell_type": "code",
   "execution_count": 49,
   "metadata": {
    "id": "JdHuMyaV9JYc"
   },
   "outputs": [],
   "source": [
    "temp = data[data.item_cnt_month > 0].groupby(['city', 'date_block_num'])[['shop_id']].nunique()\n",
    "temp.columns = ['shop_cnt']\n",
    "temp = temp.reset_index([0,1])"
   ]
  },
  {
   "cell_type": "code",
   "execution_count": 50,
   "metadata": {
    "id": "GABOVD93_9W_"
   },
   "outputs": [],
   "source": [
    "data = merge(data, temp, on=['city', 'date_block_num'], how='left', check_left=True, fillna=0)"
   ]
  },
  {
   "cell_type": "code",
   "execution_count": 51,
   "metadata": {
    "id": "f7TXotoCAWnW"
   },
   "outputs": [],
   "source": [
    "data.lag_month1 = data.lag_month1.astype(np.int32)\n",
    "data.shop_cnt = data.shop_cnt.astype(np.int8)"
   ]
  },
  {
   "cell_type": "code",
   "execution_count": 52,
   "metadata": {
    "colab": {
     "base_uri": "https://localhost:8080/"
    },
    "id": "azmE9H273ewU",
    "outputId": "5779c446-d105-406e-d080-d9b95d36300a"
   },
   "outputs": [
    {
     "data": {
      "text/html": [
       "<div>\n",
       "<style scoped>\n",
       "    .dataframe tbody tr th:only-of-type {\n",
       "        vertical-align: middle;\n",
       "    }\n",
       "\n",
       "    .dataframe tbody tr th {\n",
       "        vertical-align: top;\n",
       "    }\n",
       "\n",
       "    .dataframe thead th {\n",
       "        text-align: right;\n",
       "    }\n",
       "</style>\n",
       "<table border=\"1\" class=\"dataframe\">\n",
       "  <thead>\n",
       "    <tr style=\"text-align: right;\">\n",
       "      <th></th>\n",
       "      <th>item_id</th>\n",
       "      <th>shop_id</th>\n",
       "      <th>date_block_num</th>\n",
       "      <th>item_cnt_month</th>\n",
       "      <th>item_price</th>\n",
       "      <th>shop_name</th>\n",
       "      <th>city</th>\n",
       "      <th>item_name</th>\n",
       "      <th>item_category_id</th>\n",
       "      <th>item_category_name</th>\n",
       "      <th>...</th>\n",
       "      <th>rol_avg_item2</th>\n",
       "      <th>rol_max_item4</th>\n",
       "      <th>rol_avg_item6</th>\n",
       "      <th>rol_std_item6</th>\n",
       "      <th>dif2_1</th>\n",
       "      <th>dif4_1</th>\n",
       "      <th>dif12_1</th>\n",
       "      <th>difitem6_2</th>\n",
       "      <th>lag_month1</th>\n",
       "      <th>shop_cnt</th>\n",
       "    </tr>\n",
       "  </thead>\n",
       "  <tbody>\n",
       "    <tr>\n",
       "      <th>7515993</th>\n",
       "      <td>17871</td>\n",
       "      <td>18</td>\n",
       "      <td>21</td>\n",
       "      <td>0</td>\n",
       "      <td>399.0</td>\n",
       "      <td>Красноярск ТЦ \"Июнь\"</td>\n",
       "      <td>Красноярск</td>\n",
       "      <td>РИО 2</td>\n",
       "      <td>40</td>\n",
       "      <td>Кино - DVD</td>\n",
       "      <td>...</td>\n",
       "      <td>152.5</td>\n",
       "      <td>344</td>\n",
       "      <td>108.166664</td>\n",
       "      <td>142.63858</td>\n",
       "      <td>1</td>\n",
       "      <td>0</td>\n",
       "      <td>0</td>\n",
       "      <td>-44.333336</td>\n",
       "      <td>99427</td>\n",
       "      <td>2</td>\n",
       "    </tr>\n",
       "  </tbody>\n",
       "</table>\n",
       "<p>1 rows × 29 columns</p>\n",
       "</div>"
      ],
      "text/plain": [
       "         item_id  shop_id  date_block_num  item_cnt_month  item_price  \\\n",
       "7515993    17871       18              21               0       399.0   \n",
       "\n",
       "                    shop_name        city item_name  item_category_id  \\\n",
       "7515993  Красноярск ТЦ \"Июнь\"  Красноярск     РИО 2                40   \n",
       "\n",
       "        item_category_name  ... rol_avg_item2 rol_max_item4  rol_avg_item6  \\\n",
       "7515993         Кино - DVD  ...         152.5           344     108.166664   \n",
       "\n",
       "         rol_std_item6  dif2_1  dif4_1  dif12_1  difitem6_2  lag_month1  \\\n",
       "7515993      142.63858       1       0        0  -44.333336       99427   \n",
       "\n",
       "         shop_cnt  \n",
       "7515993         2  \n",
       "\n",
       "[1 rows x 29 columns]"
      ]
     },
     "execution_count": 52,
     "metadata": {},
     "output_type": "execute_result"
    }
   ],
   "source": [
    "data.sample()"
   ]
  },
  {
   "cell_type": "markdown",
   "metadata": {
    "id": "5uZ8b_fyaiVw"
   },
   "source": [
    "# Save to .parquet"
   ]
  },
  {
   "cell_type": "code",
   "execution_count": 57,
   "metadata": {
    "id": "Ktq6Z5JyqxlE"
   },
   "outputs": [],
   "source": [
    "test = data[data.date_block_num == PREDICT_MONTH]\n",
    "test.to_parquet('./competitive-data-science-predict-future-sales/transformed_data/work_df_after_feature_engineering__test.parquet')\n"
   ]
  },
  {
   "cell_type": "code",
   "execution_count": 59,
   "metadata": {
    "id": "gZczLF9VoxT1"
   },
   "outputs": [
    {
     "ename": "MemoryError",
     "evalue": "Unable to allocate 43.1 MiB for an array with shape (45226800,) and data type bool",
     "output_type": "error",
     "traceback": [
      "\u001b[1;31m---------------------------------------------------------------------------\u001b[0m",
      "\u001b[1;31mMemoryError\u001b[0m                               Traceback (most recent call last)",
      "\u001b[1;32m<ipython-input-59-9fde7709066f>\u001b[0m in \u001b[0;36m<module>\u001b[1;34m\u001b[0m\n\u001b[1;32m----> 1\u001b[1;33m \u001b[0mdata\u001b[0m\u001b[1;33m[\u001b[0m\u001b[1;33m(\u001b[0m\u001b[0mdata\u001b[0m\u001b[1;33m.\u001b[0m\u001b[0mdate_block_num\u001b[0m \u001b[1;33m<\u001b[0m \u001b[0mPREDICT_MONTH\u001b[0m\u001b[1;33m)\u001b[0m\u001b[1;33m]\u001b[0m\u001b[1;33m.\u001b[0m\u001b[0mto_csv\u001b[0m\u001b[1;33m(\u001b[0m\u001b[1;34m'./competitive-data-science-predict-future-sales/transformed_data/work_df_after_feature_engineering__train.csv'\u001b[0m\u001b[1;33m)\u001b[0m\u001b[1;33m\u001b[0m\u001b[1;33m\u001b[0m\u001b[0m\n\u001b[0m",
      "\u001b[1;32mD:\\Study\\Anaconda\\lib\\site-packages\\pandas\\core\\frame.py\u001b[0m in \u001b[0;36m__getitem__\u001b[1;34m(self, key)\u001b[0m\n\u001b[0;32m   2891\u001b[0m         \u001b[1;31m# Do we have a (boolean) 1d indexer?\u001b[0m\u001b[1;33m\u001b[0m\u001b[1;33m\u001b[0m\u001b[1;33m\u001b[0m\u001b[0m\n\u001b[0;32m   2892\u001b[0m         \u001b[1;32mif\u001b[0m \u001b[0mcom\u001b[0m\u001b[1;33m.\u001b[0m\u001b[0mis_bool_indexer\u001b[0m\u001b[1;33m(\u001b[0m\u001b[0mkey\u001b[0m\u001b[1;33m)\u001b[0m\u001b[1;33m:\u001b[0m\u001b[1;33m\u001b[0m\u001b[1;33m\u001b[0m\u001b[0m\n\u001b[1;32m-> 2893\u001b[1;33m             \u001b[1;32mreturn\u001b[0m \u001b[0mself\u001b[0m\u001b[1;33m.\u001b[0m\u001b[0m_getitem_bool_array\u001b[0m\u001b[1;33m(\u001b[0m\u001b[0mkey\u001b[0m\u001b[1;33m)\u001b[0m\u001b[1;33m\u001b[0m\u001b[1;33m\u001b[0m\u001b[0m\n\u001b[0m\u001b[0;32m   2894\u001b[0m \u001b[1;33m\u001b[0m\u001b[0m\n\u001b[0;32m   2895\u001b[0m         \u001b[1;31m# We are left with two options: a single key, and a collection of keys,\u001b[0m\u001b[1;33m\u001b[0m\u001b[1;33m\u001b[0m\u001b[1;33m\u001b[0m\u001b[0m\n",
      "\u001b[1;32mD:\\Study\\Anaconda\\lib\\site-packages\\pandas\\core\\frame.py\u001b[0m in \u001b[0;36m_getitem_bool_array\u001b[1;34m(self, key)\u001b[0m\n\u001b[0;32m   2945\u001b[0m         \u001b[0mkey\u001b[0m \u001b[1;33m=\u001b[0m \u001b[0mcheck_bool_indexer\u001b[0m\u001b[1;33m(\u001b[0m\u001b[0mself\u001b[0m\u001b[1;33m.\u001b[0m\u001b[0mindex\u001b[0m\u001b[1;33m,\u001b[0m \u001b[0mkey\u001b[0m\u001b[1;33m)\u001b[0m\u001b[1;33m\u001b[0m\u001b[1;33m\u001b[0m\u001b[0m\n\u001b[0;32m   2946\u001b[0m         \u001b[0mindexer\u001b[0m \u001b[1;33m=\u001b[0m \u001b[0mkey\u001b[0m\u001b[1;33m.\u001b[0m\u001b[0mnonzero\u001b[0m\u001b[1;33m(\u001b[0m\u001b[1;33m)\u001b[0m\u001b[1;33m[\u001b[0m\u001b[1;36m0\u001b[0m\u001b[1;33m]\u001b[0m\u001b[1;33m\u001b[0m\u001b[1;33m\u001b[0m\u001b[0m\n\u001b[1;32m-> 2947\u001b[1;33m         \u001b[1;32mreturn\u001b[0m \u001b[0mself\u001b[0m\u001b[1;33m.\u001b[0m\u001b[0m_take_with_is_copy\u001b[0m\u001b[1;33m(\u001b[0m\u001b[0mindexer\u001b[0m\u001b[1;33m,\u001b[0m \u001b[0maxis\u001b[0m\u001b[1;33m=\u001b[0m\u001b[1;36m0\u001b[0m\u001b[1;33m)\u001b[0m\u001b[1;33m\u001b[0m\u001b[1;33m\u001b[0m\u001b[0m\n\u001b[0m\u001b[0;32m   2948\u001b[0m \u001b[1;33m\u001b[0m\u001b[0m\n\u001b[0;32m   2949\u001b[0m     \u001b[1;32mdef\u001b[0m \u001b[0m_getitem_multilevel\u001b[0m\u001b[1;33m(\u001b[0m\u001b[0mself\u001b[0m\u001b[1;33m,\u001b[0m \u001b[0mkey\u001b[0m\u001b[1;33m)\u001b[0m\u001b[1;33m:\u001b[0m\u001b[1;33m\u001b[0m\u001b[1;33m\u001b[0m\u001b[0m\n",
      "\u001b[1;32mD:\\Study\\Anaconda\\lib\\site-packages\\pandas\\core\\generic.py\u001b[0m in \u001b[0;36m_take_with_is_copy\u001b[1;34m(self, indices, axis)\u001b[0m\n\u001b[0;32m   3361\u001b[0m         \u001b[0mSee\u001b[0m \u001b[0mthe\u001b[0m \u001b[0mdocstring\u001b[0m \u001b[0mof\u001b[0m\u001b[0;31m \u001b[0m\u001b[0;31m`\u001b[0m\u001b[0mtake\u001b[0m\u001b[0;31m`\u001b[0m \u001b[1;32mfor\u001b[0m \u001b[0mfull\u001b[0m \u001b[0mexplanation\u001b[0m \u001b[0mof\u001b[0m \u001b[0mthe\u001b[0m \u001b[0mparameters\u001b[0m\u001b[1;33m.\u001b[0m\u001b[1;33m\u001b[0m\u001b[1;33m\u001b[0m\u001b[0m\n\u001b[0;32m   3362\u001b[0m         \"\"\"\n\u001b[1;32m-> 3363\u001b[1;33m         \u001b[0mresult\u001b[0m \u001b[1;33m=\u001b[0m \u001b[0mself\u001b[0m\u001b[1;33m.\u001b[0m\u001b[0mtake\u001b[0m\u001b[1;33m(\u001b[0m\u001b[0mindices\u001b[0m\u001b[1;33m=\u001b[0m\u001b[0mindices\u001b[0m\u001b[1;33m,\u001b[0m \u001b[0maxis\u001b[0m\u001b[1;33m=\u001b[0m\u001b[0maxis\u001b[0m\u001b[1;33m)\u001b[0m\u001b[1;33m\u001b[0m\u001b[1;33m\u001b[0m\u001b[0m\n\u001b[0m\u001b[0;32m   3364\u001b[0m         \u001b[1;31m# Maybe set copy if we didn't actually change the index.\u001b[0m\u001b[1;33m\u001b[0m\u001b[1;33m\u001b[0m\u001b[1;33m\u001b[0m\u001b[0m\n\u001b[0;32m   3365\u001b[0m         \u001b[1;32mif\u001b[0m \u001b[1;32mnot\u001b[0m \u001b[0mresult\u001b[0m\u001b[1;33m.\u001b[0m\u001b[0m_get_axis\u001b[0m\u001b[1;33m(\u001b[0m\u001b[0maxis\u001b[0m\u001b[1;33m)\u001b[0m\u001b[1;33m.\u001b[0m\u001b[0mequals\u001b[0m\u001b[1;33m(\u001b[0m\u001b[0mself\u001b[0m\u001b[1;33m.\u001b[0m\u001b[0m_get_axis\u001b[0m\u001b[1;33m(\u001b[0m\u001b[0maxis\u001b[0m\u001b[1;33m)\u001b[0m\u001b[1;33m)\u001b[0m\u001b[1;33m:\u001b[0m\u001b[1;33m\u001b[0m\u001b[1;33m\u001b[0m\u001b[0m\n",
      "\u001b[1;32mD:\\Study\\Anaconda\\lib\\site-packages\\pandas\\core\\generic.py\u001b[0m in \u001b[0;36mtake\u001b[1;34m(self, indices, axis, is_copy, **kwargs)\u001b[0m\n\u001b[0;32m   3348\u001b[0m         \u001b[0mself\u001b[0m\u001b[1;33m.\u001b[0m\u001b[0m_consolidate_inplace\u001b[0m\u001b[1;33m(\u001b[0m\u001b[1;33m)\u001b[0m\u001b[1;33m\u001b[0m\u001b[1;33m\u001b[0m\u001b[0m\n\u001b[0;32m   3349\u001b[0m \u001b[1;33m\u001b[0m\u001b[0m\n\u001b[1;32m-> 3350\u001b[1;33m         new_data = self._mgr.take(\n\u001b[0m\u001b[0;32m   3351\u001b[0m             \u001b[0mindices\u001b[0m\u001b[1;33m,\u001b[0m \u001b[0maxis\u001b[0m\u001b[1;33m=\u001b[0m\u001b[0mself\u001b[0m\u001b[1;33m.\u001b[0m\u001b[0m_get_block_manager_axis\u001b[0m\u001b[1;33m(\u001b[0m\u001b[0maxis\u001b[0m\u001b[1;33m)\u001b[0m\u001b[1;33m,\u001b[0m \u001b[0mverify\u001b[0m\u001b[1;33m=\u001b[0m\u001b[1;32mTrue\u001b[0m\u001b[1;33m\u001b[0m\u001b[1;33m\u001b[0m\u001b[0m\n\u001b[0;32m   3352\u001b[0m         )\n",
      "\u001b[1;32mD:\\Study\\Anaconda\\lib\\site-packages\\pandas\\core\\internals\\managers.py\u001b[0m in \u001b[0;36mtake\u001b[1;34m(self, indexer, axis, verify, convert)\u001b[0m\n\u001b[0;32m   1438\u001b[0m         \u001b[0mn\u001b[0m \u001b[1;33m=\u001b[0m \u001b[0mself\u001b[0m\u001b[1;33m.\u001b[0m\u001b[0mshape\u001b[0m\u001b[1;33m[\u001b[0m\u001b[0maxis\u001b[0m\u001b[1;33m]\u001b[0m\u001b[1;33m\u001b[0m\u001b[1;33m\u001b[0m\u001b[0m\n\u001b[0;32m   1439\u001b[0m         \u001b[1;32mif\u001b[0m \u001b[0mconvert\u001b[0m\u001b[1;33m:\u001b[0m\u001b[1;33m\u001b[0m\u001b[1;33m\u001b[0m\u001b[0m\n\u001b[1;32m-> 1440\u001b[1;33m             \u001b[0mindexer\u001b[0m \u001b[1;33m=\u001b[0m \u001b[0mmaybe_convert_indices\u001b[0m\u001b[1;33m(\u001b[0m\u001b[0mindexer\u001b[0m\u001b[1;33m,\u001b[0m \u001b[0mn\u001b[0m\u001b[1;33m)\u001b[0m\u001b[1;33m\u001b[0m\u001b[1;33m\u001b[0m\u001b[0m\n\u001b[0m\u001b[0;32m   1441\u001b[0m \u001b[1;33m\u001b[0m\u001b[0m\n\u001b[0;32m   1442\u001b[0m         \u001b[1;32mif\u001b[0m \u001b[0mverify\u001b[0m\u001b[1;33m:\u001b[0m\u001b[1;33m\u001b[0m\u001b[1;33m\u001b[0m\u001b[0m\n",
      "\u001b[1;32mD:\\Study\\Anaconda\\lib\\site-packages\\pandas\\core\\indexers.py\u001b[0m in \u001b[0;36mmaybe_convert_indices\u001b[1;34m(indices, n)\u001b[0m\n\u001b[0;32m    246\u001b[0m         \u001b[0mindices\u001b[0m\u001b[1;33m[\u001b[0m\u001b[0mmask\u001b[0m\u001b[1;33m]\u001b[0m \u001b[1;33m+=\u001b[0m \u001b[0mn\u001b[0m\u001b[1;33m\u001b[0m\u001b[1;33m\u001b[0m\u001b[0m\n\u001b[0;32m    247\u001b[0m \u001b[1;33m\u001b[0m\u001b[0m\n\u001b[1;32m--> 248\u001b[1;33m     \u001b[0mmask\u001b[0m \u001b[1;33m=\u001b[0m \u001b[1;33m(\u001b[0m\u001b[0mindices\u001b[0m \u001b[1;33m>=\u001b[0m \u001b[0mn\u001b[0m\u001b[1;33m)\u001b[0m \u001b[1;33m|\u001b[0m \u001b[1;33m(\u001b[0m\u001b[0mindices\u001b[0m \u001b[1;33m<\u001b[0m \u001b[1;36m0\u001b[0m\u001b[1;33m)\u001b[0m\u001b[1;33m\u001b[0m\u001b[1;33m\u001b[0m\u001b[0m\n\u001b[0m\u001b[0;32m    249\u001b[0m     \u001b[1;32mif\u001b[0m \u001b[0mmask\u001b[0m\u001b[1;33m.\u001b[0m\u001b[0many\u001b[0m\u001b[1;33m(\u001b[0m\u001b[1;33m)\u001b[0m\u001b[1;33m:\u001b[0m\u001b[1;33m\u001b[0m\u001b[1;33m\u001b[0m\u001b[0m\n\u001b[0;32m    250\u001b[0m         \u001b[1;32mraise\u001b[0m \u001b[0mIndexError\u001b[0m\u001b[1;33m(\u001b[0m\u001b[1;34m\"indices are out-of-bounds\"\u001b[0m\u001b[1;33m)\u001b[0m\u001b[1;33m\u001b[0m\u001b[1;33m\u001b[0m\u001b[0m\n",
      "\u001b[1;31mMemoryError\u001b[0m: Unable to allocate 43.1 MiB for an array with shape (45226800,) and data type bool"
     ]
    }
   ],
   "source": [
    "data[(data.date_block_num < PREDICT_MONTH)].to_parquet('./competitive-data-science-predict-future-sales/transformed_data/work_df_after_feature_engineering__train.parquet')"
   ]
  },
  {
   "cell_type": "code",
   "execution_count": null,
   "metadata": {},
   "outputs": [],
   "source": []
  }
 ],
 "metadata": {
  "colab": {
   "collapsed_sections": [
    "ZhNklHxTbNM9",
    "QRaLporWbSYr",
    "hVzOHBTocfiZ",
    "LcJq8d8zcwA0",
    "1jM1fOHDEkvy",
    "nMvl04JAdTf_",
    "wJoiGeQDbQ0Y",
    "1zfuX3uHln0d",
    "IRbeJLr8bYVB"
   ],
   "provenance": []
  },
  "kernelspec": {
   "display_name": "Python 3",
   "language": "python",
   "name": "python3"
  },
  "language_info": {
   "codemirror_mode": {
    "name": "ipython",
    "version": 3
   },
   "file_extension": ".py",
   "mimetype": "text/x-python",
   "name": "python",
   "nbconvert_exporter": "python",
   "pygments_lexer": "ipython3",
   "version": "3.8.5"
  }
 },
 "nbformat": 4,
 "nbformat_minor": 1
}
